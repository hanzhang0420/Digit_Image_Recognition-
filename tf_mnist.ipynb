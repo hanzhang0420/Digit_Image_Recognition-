{
 "cells": [
  {
   "cell_type": "markdown",
   "metadata": {},
   "source": [
    "# Digit Images Recognizer\n",
    "https://www.kaggle.com/c/digit-recognizer"
   ]
  },
  {
   "cell_type": "code",
   "execution_count": 1,
   "metadata": {},
   "outputs": [],
   "source": [
    "import pandas as pd\n",
    "import numpy as np\n",
    "%matplotlib inline"
   ]
  },
  {
   "cell_type": "code",
   "execution_count": 2,
   "metadata": {},
   "outputs": [],
   "source": [
    "train = pd.read_csv('train.csv')\n",
    "test  = pd.read_csv('test.csv')"
   ]
  },
  {
   "cell_type": "code",
   "execution_count": 3,
   "metadata": {},
   "outputs": [
    {
     "name": "stdout",
     "output_type": "stream",
     "text": [
      "length of training 42000\n",
      "length of all data 70000\n"
     ]
    }
   ],
   "source": [
    "train_len = len(train)\n",
    "print('length of training', train_len)\n",
    "data=pd.concat(objs=[train, test], axis=0,sort=False).reset_index(drop=True)\n",
    "print('length of all data', len(data))"
   ]
  },
  {
   "cell_type": "code",
   "execution_count": 4,
   "metadata": {},
   "outputs": [
    {
     "data": {
      "text/plain": [
       "<matplotlib.axes._subplots.AxesSubplot at 0x7f593c862f60>"
      ]
     },
     "execution_count": 4,
     "metadata": {},
     "output_type": "execute_result"
    },
    {
     "data": {
      "image/png": "[encoded data removed]",
      "text/plain": [
       "<Figure size 432x288 with 1 Axes>"
      ]
     },
     "metadata": {
      "needs_background": "light"
     },
     "output_type": "display_data"
    }
   ],
   "source": [
    "import seaborn as sns\n",
    "sns.countplot(x='label',data=train)"
   ]
  },
  {
   "cell_type": "code",
   "execution_count": 5,
   "metadata": {},
   "outputs": [
    {
     "data": {
      "text/plain": [
       "label       28000\n",
       "pixel267        0\n",
       "dtype: int64"
      ]
     },
     "execution_count": 5,
     "metadata": {},
     "output_type": "execute_result"
    }
   ],
   "source": [
    "pd.isnull(data).sum().sort_values(ascending=False).head(2)"
   ]
  },
  {
   "cell_type": "markdown",
   "metadata": {},
   "source": [
    "Example"
   ]
  },
  {
   "cell_type": "code",
   "execution_count": 6,
   "metadata": {},
   "outputs": [
    {
     "name": "stdout",
     "output_type": "stream",
     "text": [
      "8.0\n"
     ]
    },
    {
     "data": {
      "image/png": "[encoded data removed]",
      "text/plain": [
       "<Figure size 432x288 with 1 Axes>"
      ]
     },
     "metadata": {
      "needs_background": "light"
     },
     "output_type": "display_data"
    }
   ],
   "source": [
    "img=data.iloc[10,:]\n",
    "import matplotlib.pyplot as plt\n",
    "plt.imshow(np.reshape(img[1:].values,(28,28)))\n",
    "print(img[0])"
   ]
  },
  {
   "cell_type": "code",
   "execution_count": 19,
   "metadata": {},
   "outputs": [],
   "source": [
    "X=train.drop(columns='label',axis=1)\n",
    "y=train['label'] # int "
   ]
  },
  {
   "cell_type": "code",
   "execution_count": 20,
   "metadata": {},
   "outputs": [],
   "source": [
    "# normalization can speed up the training\n",
    "X/= 255"
   ]
  },
  {
   "cell_type": "code",
   "execution_count": 21,
   "metadata": {},
   "outputs": [],
   "source": [
    "from sklearn.model_selection import train_test_split\n",
    "#Split training data into training and CV sets\n",
    "X_train, X_cv, y_train, y_cv = train_test_split(X,y,test_size=0.05)"
   ]
  },
  {
   "cell_type": "code",
   "execution_count": 22,
   "metadata": {},
   "outputs": [],
   "source": [
    "# normalize X_test\n",
    "X_test =test/255"
   ]
  },
  {
   "cell_type": "markdown",
   "metadata": {},
   "source": [
    "### 1. Logistic Regression (Fast Training)"
   ]
  },
  {
   "cell_type": "code",
   "execution_count": 10,
   "metadata": {},
   "outputs": [
    {
     "data": {
      "text/plain": [
       "LogisticRegression(C=1.0, class_weight=None, dual=False, fit_intercept=True,\n",
       "          intercept_scaling=1, max_iter=100, multi_class='ovr', n_jobs=1,\n",
       "          penalty='l2', random_state=None, solver='liblinear', tol=0.0001,\n",
       "          verbose=0, warm_start=False)"
      ]
     },
     "execution_count": 10,
     "metadata": {},
     "output_type": "execute_result"
    }
   ],
   "source": [
    "from sklearn.linear_model import LogisticRegression\n",
    "LR = LogisticRegression(penalty='l2')\n",
    "LR.fit(X_train,y_train)"
   ]
  },
  {
   "cell_type": "code",
   "execution_count": 11,
   "metadata": {},
   "outputs": [
    {
     "name": "stdout",
     "output_type": "stream",
     "text": [
      "0.91\n"
     ]
    }
   ],
   "source": [
    "print(LR.score(X_cv,y_cv))\n",
    "y_cv_prediction=LR.predict(X_cv)\n",
    "#predictions = LR.predict(X_test)"
   ]
  },
  {
   "cell_type": "code",
   "execution_count": 12,
   "metadata": {},
   "outputs": [
    {
     "name": "stdout",
     "output_type": "stream",
     "text": [
      "             precision    recall  f1-score   support\n",
      "\n",
      "          0       0.95      0.97      0.96       202\n",
      "          1       0.94      0.96      0.95       251\n",
      "          2       0.93      0.87      0.90       201\n",
      "          3       0.89      0.86      0.87       215\n",
      "          4       0.91      0.93      0.92       198\n",
      "          5       0.86      0.91      0.88       179\n",
      "          6       0.95      0.95      0.95       210\n",
      "          7       0.90      0.94      0.92       230\n",
      "          8       0.84      0.84      0.84       195\n",
      "          9       0.92      0.87      0.89       219\n",
      "\n",
      "avg / total       0.91      0.91      0.91      2100\n",
      "\n"
     ]
    }
   ],
   "source": [
    "from sklearn.metrics import classification_report\n",
    "#from sklearn.metrics import roc_auc_score only for binary \n",
    "print(classification_report(y_cv, y_cv_prediction ))"
   ]
  },
  {
   "cell_type": "markdown",
   "metadata": {},
   "source": [
    "### 2. 4-layer Neural Network (multi-label classification)"
   ]
  },
  {
   "cell_type": "code",
   "execution_count": 11,
   "metadata": {},
   "outputs": [
    {
     "name": "stderr",
     "output_type": "stream",
     "text": [
      "Using TensorFlow backend.\n"
     ]
    }
   ],
   "source": [
    "import keras\n",
    "from keras.models import Sequential\n",
    "from keras.layers import Dense, Dropout, Activation\n",
    "from keras.optimizers import adam"
   ]
  },
  {
   "cell_type": "code",
   "execution_count": 23,
   "metadata": {},
   "outputs": [],
   "source": [
    "# parameters\n",
    "batch_size = 128  #(2**n)\n",
    "num_classes = 10\n",
    "epochs = 15"
   ]
  },
  {
   "cell_type": "code",
   "execution_count": 24,
   "metadata": {},
   "outputs": [],
   "source": [
    "# convert class vectors to binary class matrices 2->(0,0,1,0000)\n",
    "y_train = keras.utils.to_categorical(y_train, num_classes)\n",
    "y_cv = keras.utils.to_categorical(y_cv, num_classes)"
   ]
  },
  {
   "cell_type": "code",
   "execution_count": 14,
   "metadata": {},
   "outputs": [],
   "source": [
    "#X_train=np.array(X_train).astype('float32')\n",
    "#X_cv=np.array(X_cv).astype('float32')\n",
    "#X_test=np.array(X_test).astype('float32')"
   ]
  },
  {
   "cell_type": "code",
   "execution_count": 25,
   "metadata": {},
   "outputs": [],
   "source": [
    "# initializing NN\n",
    "classifier = Sequential()\n",
    "# input layer and first layer\n",
    "classifier.add(Dense(512, activation='relu', input_dim=(784)))\n",
    "classifier.add(Dropout(0.2)) # Fraction of the input units to drop. \n",
    "classifier.add(Dense(512, activation='relu'))\n",
    "classifier.add(Dropout(0.2))\n",
    "classifier.add(Dense(512, activation='relu'))\n",
    "classifier.add(Dropout(0.2))\n",
    "classifier.add(Dense(num_classes, activation='softmax')) # 10 classes softmax for multi label classification"
   ]
  },
  {
   "cell_type": "code",
   "execution_count": 26,
   "metadata": {},
   "outputs": [],
   "source": [
    "classifier.compile(loss='categorical_crossentropy',\n",
    "              optimizer='adam',\n",
    "              metrics=['accuracy'])"
   ]
  },
  {
   "cell_type": "code",
   "execution_count": 27,
   "metadata": {},
   "outputs": [
    {
     "name": "stdout",
     "output_type": "stream",
     "text": [
      "Train on 39900 samples, validate on 2100 samples\n",
      "Epoch 1/15\n",
      "39900/39900 [==============================] - 9s 227us/step - loss: 0.3074 - acc: 0.9050 - val_loss: 0.1187 - val_acc: 0.9576\n",
      "Epoch 2/15\n",
      "39900/39900 [==============================] - 8s 191us/step - loss: 0.1245 - acc: 0.9617 - val_loss: 0.1029 - val_acc: 0.9681\n",
      "Epoch 3/15\n",
      "39900/39900 [==============================] - 7s 185us/step - loss: 0.0899 - acc: 0.9707 - val_loss: 0.0885 - val_acc: 0.9748\n",
      "Epoch 4/15\n",
      "39900/39900 [==============================] - 7s 170us/step - loss: 0.0676 - acc: 0.9787 - val_loss: 0.0908 - val_acc: 0.9752\n",
      "Epoch 5/15\n",
      "39900/39900 [==============================] - 7s 171us/step - loss: 0.0591 - acc: 0.9817 - val_loss: 0.0742 - val_acc: 0.9771\n",
      "Epoch 6/15\n",
      "39900/39900 [==============================] - 7s 170us/step - loss: 0.0461 - acc: 0.9852 - val_loss: 0.0933 - val_acc: 0.9752\n",
      "Epoch 7/15\n",
      "39900/39900 [==============================] - 7s 172us/step - loss: 0.0479 - acc: 0.9845 - val_loss: 0.0815 - val_acc: 0.9776\n",
      "Epoch 8/15\n",
      "39900/39900 [==============================] - 7s 172us/step - loss: 0.0370 - acc: 0.9883 - val_loss: 0.0838 - val_acc: 0.9781\n",
      "Epoch 9/15\n",
      "39900/39900 [==============================] - 7s 171us/step - loss: 0.0392 - acc: 0.9874 - val_loss: 0.0998 - val_acc: 0.9743\n",
      "Epoch 10/15\n",
      "39900/39900 [==============================] - 7s 171us/step - loss: 0.0309 - acc: 0.9901 - val_loss: 0.0965 - val_acc: 0.9757\n",
      "Epoch 11/15\n",
      "39900/39900 [==============================] - 7s 171us/step - loss: 0.0308 - acc: 0.9898 - val_loss: 0.1066 - val_acc: 0.9705\n",
      "Epoch 12/15\n",
      "39900/39900 [==============================] - 7s 171us/step - loss: 0.0301 - acc: 0.9902 - val_loss: 0.0945 - val_acc: 0.9757\n",
      "Epoch 13/15\n",
      "39900/39900 [==============================] - 7s 171us/step - loss: 0.0257 - acc: 0.9920 - val_loss: 0.0837 - val_acc: 0.9795\n",
      "Epoch 14/15\n",
      "39900/39900 [==============================] - 7s 172us/step - loss: 0.0255 - acc: 0.9921 - val_loss: 0.1015 - val_acc: 0.9748\n",
      "Epoch 15/15\n",
      "39900/39900 [==============================] - 7s 174us/step - loss: 0.0223 - acc: 0.9928 - val_loss: 0.1006 - val_acc: 0.9776\n",
      "Test loss: 0.10063914828691244\n",
      "Test accuracy: 0.9776190476190476\n"
     ]
    }
   ],
   "source": [
    "history = classifier.fit(X_train, y_train,\\\n",
    "                    batch_size=batch_size, epochs=epochs,verbose=1,validation_data=(X_cv, y_cv))\n",
    "score = classifier.evaluate(X_cv, y_cv, verbose=0)\n",
    "print('Test loss:', score[0])\n",
    "print('Test accuracy:', score[1])"
   ]
  },
  {
   "cell_type": "code",
   "execution_count": 42,
   "metadata": {},
   "outputs": [
    {
     "data": {
      "image/png": "[encoded data removed]",
      "text/plain": [
       "<Figure size 432x288 with 1 Axes>"
      ]
     },
     "metadata": {
      "needs_background": "light"
     },
     "output_type": "display_data"
    }
   ],
   "source": [
    "# summarize history for loss\n",
    "plt.plot(history.history['acc'])\n",
    "plt.plot(history.history['val_acc'])\n",
    "plt.title('model acc')\n",
    "plt.ylabel('acc')\n",
    "plt.xlabel('epoch')\n",
    "plt.legend(['train', 'test'], loc='upper left')\n",
    "plt.show()"
   ]
  },
  {
   "cell_type": "code",
   "execution_count": 29,
   "metadata": {},
   "outputs": [],
   "source": [
    "#check mislabeled \n",
    "y_cv_pred=classifier.predict(X_cv)\n",
    "index=np.where(np.argmax(y_cv_pred,axis=1) != np.argmax(y_cv, axis=1))"
   ]
  },
  {
   "cell_type": "markdown",
   "metadata": {},
   "source": [
    "A Mislabeled Example "
   ]
  },
  {
   "cell_type": "code",
   "execution_count": 30,
   "metadata": {},
   "outputs": [
    {
     "name": "stdout",
     "output_type": "stream",
     "text": [
      "8\n"
     ]
    },
    {
     "data": {
      "image/png": "[encoded data removed]",
      "text/plain": [
       "<Figure size 432x288 with 1 Axes>"
      ]
     },
     "metadata": {
      "needs_background": "light"
     },
     "output_type": "display_data"
    }
   ],
   "source": [
    "plt.imshow(np.reshape(X_cv.iloc[index[0][0]].values,(28,28)).reshape(28,28))\n",
    "print(np.argmax(y_cv_pred[index[0][0]]))"
   ]
  },
  {
   "cell_type": "code",
   "execution_count": 31,
   "metadata": {},
   "outputs": [],
   "source": [
    "predictions = classifier.predict(X_test)\n",
    "classes = np.argmax(predictions, axis=1)"
   ]
  },
  {
   "cell_type": "code",
   "execution_count": 33,
   "metadata": {},
   "outputs": [
    {
     "name": "stdout",
     "output_type": "stream",
     "text": [
      "             precision    recall  f1-score   support\n",
      "\n",
      "          0       0.99      0.97      0.98       208\n",
      "          1       0.99      0.99      0.99       221\n",
      "          2       0.97      0.99      0.98       201\n",
      "          3       0.98      0.97      0.97       210\n",
      "          4       0.97      0.98      0.97       181\n",
      "          5       0.98      0.98      0.98       234\n",
      "          6       0.98      1.00      0.99       209\n",
      "          7       0.97      0.98      0.97       210\n",
      "          8       0.96      0.98      0.97       209\n",
      "          9       0.99      0.96      0.97       217\n",
      "\n",
      "avg / total       0.98      0.98      0.98      2100\n",
      "\n"
     ]
    }
   ],
   "source": [
    "from sklearn.metrics import classification_report\n",
    "print(classification_report(np.argmax(y_cv, axis=1),np.argmax(y_cv_pred, axis=1) ))"
   ]
  },
  {
   "cell_type": "markdown",
   "metadata": {},
   "source": [
    "### Convolution Neural Network"
   ]
  },
  {
   "cell_type": "code",
   "execution_count": 34,
   "metadata": {},
   "outputs": [],
   "source": [
    "from keras.layers import Dense, Dropout, Flatten, Conv2D, MaxPooling2D"
   ]
  },
  {
   "cell_type": "code",
   "execution_count": 35,
   "metadata": {},
   "outputs": [],
   "source": [
    "X_train=np.array(X_train).astype('float32').reshape(39900,28,28,1)\n",
    "X_cv=np.array(X_cv).astype('float32').reshape(2100,28,28,1)\n",
    "X_test=np.array(X_test).astype('float32').reshape(28000,28,28,1)"
   ]
  },
  {
   "cell_type": "code",
   "execution_count": 36,
   "metadata": {},
   "outputs": [],
   "source": [
    "# parameters\n",
    "batch_size = 128  #(2**n)\n",
    "num_classes = 10\n",
    "epochs = 12"
   ]
  },
  {
   "cell_type": "code",
   "execution_count": 37,
   "metadata": {},
   "outputs": [],
   "source": [
    "cnn = Sequential()\n",
    "cnn.add(Conv2D(32, kernel_size=(3, 3),\n",
    "                 activation='relu',\n",
    "                 input_shape=(28,28,1))) #using Tensorflow backen if Thesno, 1, 28, 28 \n",
    "cnn.add(Conv2D(64, (3, 3), activation='relu'))\n",
    "\n",
    "cnn.add(MaxPooling2D(pool_size=(2, 2)))\n",
    "cnn.add(Dropout(0.25))\n",
    "cnn.add(Flatten())\n",
    "cnn.add(Dense(128, activation='relu'))\n",
    "cnn.add(Dropout(0.5))\n",
    "cnn.add(Dense(num_classes, activation='softmax'))\n"
   ]
  },
  {
   "cell_type": "code",
   "execution_count": 38,
   "metadata": {},
   "outputs": [],
   "source": [
    "cnn.compile(loss=keras.losses.categorical_crossentropy,\n",
    "              optimizer='adam',\n",
    "              metrics=['accuracy'])"
   ]
  },
  {
   "cell_type": "code",
   "execution_count": 39,
   "metadata": {},
   "outputs": [
    {
     "name": "stdout",
     "output_type": "stream",
     "text": [
      "Train on 39900 samples, validate on 2100 samples\n",
      "Epoch 1/12\n",
      "39900/39900 [==============================] - 53s 1ms/step - loss: 0.2880 - acc: 0.9112 - val_loss: 0.0638 - val_acc: 0.9819\n",
      "Epoch 2/12\n",
      "39900/39900 [==============================] - 52s 1ms/step - loss: 0.0977 - acc: 0.9704 - val_loss: 0.0475 - val_acc: 0.9833\n",
      "Epoch 3/12\n",
      "39900/39900 [==============================] - 53s 1ms/step - loss: 0.0712 - acc: 0.9793 - val_loss: 0.0386 - val_acc: 0.9886\n",
      "Epoch 4/12\n",
      "39900/39900 [==============================] - 52s 1ms/step - loss: 0.0588 - acc: 0.9816 - val_loss: 0.0376 - val_acc: 0.9905\n",
      "Epoch 5/12\n",
      "39900/39900 [==============================] - 51s 1ms/step - loss: 0.0487 - acc: 0.9851 - val_loss: 0.0369 - val_acc: 0.9900\n",
      "Epoch 6/12\n",
      "39900/39900 [==============================] - 51s 1ms/step - loss: 0.0431 - acc: 0.9866 - val_loss: 0.0403 - val_acc: 0.9871\n",
      "Epoch 7/12\n",
      "39900/39900 [==============================] - 52s 1ms/step - loss: 0.0386 - acc: 0.9879 - val_loss: 0.0444 - val_acc: 0.9881\n",
      "Epoch 8/12\n",
      "39900/39900 [==============================] - 52s 1ms/step - loss: 0.0343 - acc: 0.9892 - val_loss: 0.0387 - val_acc: 0.9910\n",
      "Epoch 9/12\n",
      "39900/39900 [==============================] - 53s 1ms/step - loss: 0.0313 - acc: 0.9897 - val_loss: 0.0436 - val_acc: 0.9886\n",
      "Epoch 10/12\n",
      "39900/39900 [==============================] - 52s 1ms/step - loss: 0.0279 - acc: 0.9906 - val_loss: 0.0402 - val_acc: 0.9900\n",
      "Epoch 11/12\n",
      "39900/39900 [==============================] - 52s 1ms/step - loss: 0.0269 - acc: 0.9912 - val_loss: 0.0410 - val_acc: 0.9910\n",
      "Epoch 12/12\n",
      "39900/39900 [==============================] - 52s 1ms/step - loss: 0.0239 - acc: 0.9922 - val_loss: 0.0426 - val_acc: 0.9905\n"
     ]
    }
   ],
   "source": [
    "history = cnn.fit(X_train, y_train,\n",
    "          batch_size=batch_size,\n",
    "          epochs=epochs,\n",
    "          verbose=1,\n",
    "          validation_data=(X_cv, y_cv))"
   ]
  },
  {
   "cell_type": "code",
   "execution_count": 43,
   "metadata": {},
   "outputs": [
    {
     "data": {
      "image/png": "[encoded data removed]",
      "text/plain": [
       "<Figure size 432x288 with 1 Axes>"
      ]
     },
     "metadata": {
      "needs_background": "light"
     },
     "output_type": "display_data"
    }
   ],
   "source": [
    "# summarize history for loss\n",
    "plt.plot(history.history['acc'])\n",
    "plt.plot(history.history['val_acc'])\n",
    "plt.title('model acc')\n",
    "plt.ylabel('acc')\n",
    "plt.xlabel('epoch')\n",
    "plt.legend(['train', 'test'], loc='upper left')\n",
    "plt.show()"
   ]
  },
  {
   "cell_type": "code",
   "execution_count": 44,
   "metadata": {},
   "outputs": [
    {
     "name": "stdout",
     "output_type": "stream",
     "text": [
      "loss 0.04260586598782365\n",
      "accuracy 0.9904761904761905\n"
     ]
    }
   ],
   "source": [
    "score = cnn.evaluate(X_cv, y_cv, verbose=0)\n",
    "print('loss',score[0])\n",
    "print('accuracy',score[1])"
   ]
  },
  {
   "cell_type": "code",
   "execution_count": 45,
   "metadata": {},
   "outputs": [],
   "source": [
    "y_cv_pred=cnn.predict(X_cv)\n",
    "predictions = cnn.predict(X_test)"
   ]
  },
  {
   "cell_type": "code",
   "execution_count": 46,
   "metadata": {},
   "outputs": [
    {
     "name": "stdout",
     "output_type": "stream",
     "text": [
      "             precision    recall  f1-score   support\n",
      "\n",
      "          0       1.00      0.98      0.99       208\n",
      "          1       1.00      0.99      0.99       221\n",
      "          2       0.99      0.99      0.99       201\n",
      "          3       1.00      0.99      0.99       210\n",
      "          4       0.99      0.99      0.99       181\n",
      "          5       1.00      0.99      0.99       234\n",
      "          6       0.99      1.00      1.00       209\n",
      "          7       0.98      0.99      0.98       210\n",
      "          8       0.99      1.00      0.99       209\n",
      "          9       0.99      0.99      0.99       217\n",
      "\n",
      "avg / total       0.99      0.99      0.99      2100\n",
      "\n"
     ]
    }
   ],
   "source": [
    "classes = np.argmax(predictions, axis=1)\n",
    "print(classification_report(np.argmax(y_cv, axis=1),np.argmax(y_cv_pred, axis=1) ))"
   ]
  },
  {
   "cell_type": "code",
   "execution_count": 48,
   "metadata": {},
   "outputs": [],
   "source": [
    "#build up a dataframe \n",
    "submission=pd.DataFrame(\n",
    "    {'ImageId': range(1, len(test) + 1),\n",
    "     'Label': classes\n",
    "    })\n",
    "\n",
    "#write to res.csv\n",
    "import csv\n",
    "submission.to_csv('res.csv', encoding='utf-8', index=False)    "
   ]
  }
 ],
 "metadata": {
  "kernelspec": {
   "display_name": "Python 3",
   "language": "python",
   "name": "python3"
  },
  "language_info": {
   "codemirror_mode": {
    "name": "ipython",
    "version": 3
   },
   "file_extension": ".py",
   "mimetype": "text/x-python",
   "name": "python",
   "nbconvert_exporter": "python",
   "pygments_lexer": "ipython3",
   "version": "3.5.2"
  }
 },
 "nbformat": 4,
 "nbformat_minor": 2
}
